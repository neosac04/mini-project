{
 "cells": [
  {
   "cell_type": "code",
   "execution_count": 1,
   "id": "e868b84c",
   "metadata": {},
   "outputs": [
    {
     "name": "stdout",
     "output_type": "stream",
     "text": [
      "HEllo\n"
     ]
    }
   ],
   "source": [
    "print(\"HEllo\")"
   ]
  },
  {
   "cell_type": "code",
   "execution_count": 2,
   "id": "41594ddf",
   "metadata": {},
   "outputs": [],
   "source": [
    "import re\n",
    "\n",
    "with open(\"ramaiah.md\", \"r\", encoding=\"utf-8\") as f:\n",
    "    content = f.read()\n",
    "\n",
    "# Remove multiple blank lines\n",
    "content = re.sub(r'\\n{3,}', '\\n\\n', content)\n",
    "\n",
    "# Trim extra spaces at line ends\n",
    "content = re.sub(r'[ \\t]+$', '', content, flags=re.MULTILINE)\n",
    "\n",
    "# Fix spacing around headers\n",
    "content = re.sub(r'\\n?#+[^\\n]*\\n?', lambda m: '\\n' + m.group().strip() + '\\n', content)\n",
    "\n",
    "with open(\"ramaiah.md\", \"w\", encoding=\"utf-8\") as f:\n",
    "    f.write(content)\n"
   ]
  }
 ],
 "metadata": {
  "kernelspec": {
   "display_name": "FDS",
   "language": "python",
   "name": "python3"
  },
  "language_info": {
   "codemirror_mode": {
    "name": "ipython",
    "version": 3
   },
   "file_extension": ".py",
   "mimetype": "text/x-python",
   "name": "python",
   "nbconvert_exporter": "python",
   "pygments_lexer": "ipython3",
   "version": "3.11.11"
  }
 },
 "nbformat": 4,
 "nbformat_minor": 5
}
