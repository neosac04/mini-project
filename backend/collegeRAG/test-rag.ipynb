{
 "cells": [
  {
   "cell_type": "code",
   "execution_count": 17,
   "id": "3c1f081f",
   "metadata": {},
   "outputs": [],
   "source": [
    "import os\n",
    "api_key = os.environ['OpenAIKey']\n",
    "\n"
   ]
  },
  {
   "cell_type": "code",
   "execution_count": 70,
   "id": "2eac88a6",
   "metadata": {},
   "outputs": [
    {
     "name": "stdout",
     "output_type": "stream",
     "text": [
      "#College Info for Engineering Colleges\n",
      "\n",
      "College 1: BMS College of Engineering\n",
      "\n",
      "BMS College Overview Duration 4 years\n",
      "\n",
      "Course Level UG Degree\n",
      "\n",
      "Mode of Course Full Time\n",
      "\n",
      "Total Tuition Fees INR 18.00 Lakh\n",
      "\n",
      "Type of Univers ity Private,Autonomous\n",
      "\n",
      "BMS Col\n"
     ]
    }
   ],
   "source": [
    "import glob\n",
    "from langchain_community.document_loaders import UnstructuredMarkdownLoader\n",
    "from langchain_core.documents import Document\n",
    "\n",
    "# Path to all .md files in the folder\n",
    "markdown_path = \"CollegeInfo/allinfo.md\"\n",
    "loader = UnstructuredMarkdownLoader(markdown_path)\n",
    "\n",
    "data = loader.load()\n",
    "assert len(data) == 1\n",
    "assert isinstance(data[0], Document)\n",
    "readme_content = data[0].page_content\n",
    "print(readme_content[:250])"
   ]
  },
  {
   "cell_type": "code",
   "execution_count": 72,
   "id": "433b2740",
   "metadata": {},
   "outputs": [],
   "source": [
    "from langchain_text_splitters import RecursiveCharacterTextSplitter\n",
    "\n",
    "text_splitter = RecursiveCharacterTextSplitter(chunk_size = 1000, chunk_overlap = 200)\n",
    "splits = text_splitter.split_documents(data)"
   ]
  },
  {
   "cell_type": "code",
   "execution_count": 73,
   "id": "87b7433e",
   "metadata": {},
   "outputs": [],
   "source": [
    "from langchain.embeddings import HuggingFaceEmbeddings\n",
    "from langchain.vectorstores import Chroma\n",
    "\n",
    "# Load a local embedding model from Hugging Face\n",
    "embeddings = HuggingFaceEmbeddings(model_name=\"sentence-transformers/all-MiniLM-L6-v2\")\n",
    "\n",
    "# Create your vectorstore\n",
    "vectorstore = Chroma.from_documents(documents=splits, embedding=embeddings)\n"
   ]
  },
  {
   "cell_type": "code",
   "execution_count": 74,
   "id": "149d35af",
   "metadata": {},
   "outputs": [
    {
     "name": "stdout",
     "output_type": "stream",
     "text": [
      "877\n"
     ]
    }
   ],
   "source": [
    "print(vectorstore._collection.count())"
   ]
  },
  {
   "cell_type": "code",
   "execution_count": 75,
   "id": "1b8fbf9b",
   "metadata": {},
   "outputs": [],
   "source": [
    "retriever = vectorstore.as_retriever()"
   ]
  },
  {
   "cell_type": "code",
   "execution_count": 76,
   "id": "55b07edf",
   "metadata": {},
   "outputs": [
    {
     "name": "stderr",
     "output_type": "stream",
     "text": [
      "c:\\Users\\rohan\\miniconda3\\envs\\LangchainRAG\\lib\\site-packages\\langsmith\\client.py:241: LangSmithMissingAPIKeyWarning: API key must be provided when using hosted LangSmith API\n",
      "  warnings.warn(\n"
     ]
    }
   ],
   "source": [
    "from langchain import hub\n",
    "prompt = hub.pull(\"rlm/rag-prompt\")"
   ]
  },
  {
   "cell_type": "code",
   "execution_count": 77,
   "id": "608111e9",
   "metadata": {},
   "outputs": [
    {
     "data": {
      "text/plain": [
       "True"
      ]
     },
     "execution_count": 77,
     "metadata": {},
     "output_type": "execute_result"
    }
   ],
   "source": [
    "from dotenv import load_dotenv\n",
    "load_dotenv()"
   ]
  },
  {
   "cell_type": "code",
   "execution_count": 78,
   "id": "b4d80056",
   "metadata": {},
   "outputs": [],
   "source": [
    "from langchain_core.runnables import RunnablePassthrough\n",
    "from langchain.schema.output_parser import StrOutputParser"
   ]
  },
  {
   "cell_type": "code",
   "execution_count": 79,
   "id": "43c8734f",
   "metadata": {},
   "outputs": [],
   "source": [
    "def format_docs(docs):\n",
    "    return \"\\n\".join(doc.page_content for doc in docs)\n"
   ]
  },
  {
   "cell_type": "code",
   "execution_count": 80,
   "id": "e6ed9425",
   "metadata": {},
   "outputs": [],
   "source": [
    "from langchain.chat_models import ChatOpenAI\n",
    "\n",
    "llm = ChatOpenAI(\n",
    "    model=\"llama3-70b-8192\",  # or use \"llama3-70b-8192\"\n",
    "    openai_api_key=\"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\",\n",
    "    openai_api_base=\"https://api.groq.com/openai/v1\"\n",
    ")\n"
   ]
  },
  {
   "cell_type": "code",
   "execution_count": 82,
   "id": "016260a0",
   "metadata": {},
   "outputs": [],
   "source": [
    "from langchain.chains import RetrievalQA\n",
    "from langchain.vectorstores import FAISS\n",
    "from langchain.embeddings import OpenAIEmbeddings\n",
    "\n",
    "retriever =vectorstore.as_retriever()\n",
    "\n",
    "rag_chain = RetrievalQA.from_chain_type(\n",
    "    llm=llm,\n",
    "    retriever=retriever,\n",
    "    return_source_documents=True\n",
    ")\n"
   ]
  },
  {
   "cell_type": "code",
   "execution_count": 85,
   "id": "e3ffe714",
   "metadata": {},
   "outputs": [
    {
     "name": "stdout",
     "output_type": "stream",
     "text": [
      "Based on the provided context, I recommend the Department of Mechanical Engineering in the institution mentioned. Here's why:\n",
      "\n",
      "* The department has a strong reputation, being one of the oldest departments in the institution, with a rich history of 40 years.\n",
      "* The department offers a four-year bachelor's degree program in Mechanical Engineering, which is a great fit for the student's interest.\n",
      "* The faculty members are well-qualified, with 38 members holding a minimum postgraduate degree, and 26 of them possessing a doctoral degree.\n",
      "* The department has a strong research focus, being a VTU-recognized R&D Centre for MSc Engineering and Ph.D. programs.\n",
      "* The institution has a Full-fledged Placement Centre that is active and successful.\n",
      "\n",
      "Regarding cutoff and placement details, I don't have specific information for the Mechanical Engineering department. However, I can provide some general insights based on the context:\n",
      "\n",
      "* The institution has a general rank of 1500, which is a decent rank. For Mechanical Engineering, the cutoff might be around 1200-1500.\n",
      "* The placement details are not explicitly mentioned for Mechanical Engineering. However, the institution has a successful Placement Centre, which suggests that the placement opportunities are good.\n",
      "\n",
      "Please note that these are just general recommendations and insights, and I would recommend verifying the information with the institution's official website or contacting the department directly for more specific details.\n"
     ]
    }
   ],
   "source": [
    "response = rag_chain.invoke({\"query\": \"Recommend college  for a student interested in Mechanical Engineering and has a general rank 0f 1500, include the cutoff and placement details\"})\n",
    "print(response['result'])\n"
   ]
  }
 ],
 "metadata": {
  "kernelspec": {
   "display_name": "LangchainRAG",
   "language": "python",
   "name": "python3"
  },
  "language_info": {
   "codemirror_mode": {
    "name": "ipython",
    "version": 3
   },
   "file_extension": ".py",
   "mimetype": "text/x-python",
   "name": "python",
   "nbconvert_exporter": "python",
   "pygments_lexer": "ipython3",
   "version": "3.10.16"
  }
 },
 "nbformat": 4,
 "nbformat_minor": 5
}
