{
 "cells": [
  {
   "cell_type": "code",
   "execution_count": 1,
   "id": "3d08d63a",
   "metadata": {},
   "outputs": [
    {
     "name": "stderr",
     "output_type": "stream",
     "text": [
      "c:\\Users\\rohan\\rbfrontend\\collegeRAG\\rag.py:14: LangChainDeprecationWarning: The class `HuggingFaceEmbeddings` was deprecated in LangChain 0.2.2 and will be removed in 1.0. An updated version of the class exists in the :class:`~langchain-huggingface package and should be used instead. To use it run `pip install -U :class:`~langchain-huggingface` and import as `from :class:`~langchain_huggingface import HuggingFaceEmbeddings``.\n",
      "  embeddings = HuggingFaceEmbeddings(model_name=\"sentence-transformers/all-MiniLM-L6-v2\")\n",
      "c:\\Users\\rohan\\miniconda3\\envs\\LangchainRAG\\lib\\site-packages\\tqdm\\auto.py:21: TqdmWarning: IProgress not found. Please update jupyter and ipywidgets. See https://ipywidgets.readthedocs.io/en/stable/user_install.html\n",
      "  from .autonotebook import tqdm as notebook_tqdm\n",
      "c:\\Users\\rohan\\rbfrontend\\collegeRAG\\rag.py:17: LangChainDeprecationWarning: The class `Chroma` was deprecated in LangChain 0.2.9 and will be removed in 1.0. An updated version of the class exists in the :class:`~langchain-chroma package and should be used instead. To use it run `pip install -U :class:`~langchain-chroma` and import as `from :class:`~langchain_chroma import Chroma``.\n",
      "  vectorstore = Chroma(\n",
      "c:\\Users\\rohan\\miniconda3\\envs\\LangchainRAG\\lib\\site-packages\\langsmith\\client.py:241: LangSmithMissingAPIKeyWarning: API key must be provided when using hosted LangSmith API\n",
      "  warnings.warn(\n",
      "c:\\Users\\rohan\\rbfrontend\\collegeRAG\\rag.py:73: LangChainDeprecationWarning: The class `ChatOpenAI` was deprecated in LangChain 0.0.10 and will be removed in 1.0. An updated version of the class exists in the :class:`~langchain-openai package and should be used instead. To use it run `pip install -U :class:`~langchain-openai` and import as `from :class:`~langchain_openai import ChatOpenAI``.\n",
      "  llm = ChatOpenAI(\n"
     ]
    }
   ],
   "source": [
    "import rag"
   ]
  },
  {
   "cell_type": "code",
   "execution_count": 2,
   "id": "a19d77c2",
   "metadata": {},
   "outputs": [],
   "source": [
    "prompt = \"I am very interested in biotech, and I have KCET General rank 4000, recommend college for me\""
   ]
  },
  {
   "cell_type": "code",
   "execution_count": 9,
   "id": "50f208ac",
   "metadata": {},
   "outputs": [
    {
     "name": "stdout",
     "output_type": "stream",
     "text": [
      "starting rag\n",
      "\n",
      "Response from RAG/LLM: \n",
      " [\n",
      "    {\n",
      "        \"name\": \"PES College\",\n",
      "        \"CourseName\": \"B.Tech. in Biotechnology\",\n",
      "        \"Fees\": null,\n",
      "        \"ExpectedKCETCutoff\": 4000,\n",
      "        \"Placement\": []\n",
      "    },\n",
      "    {\n",
      "        \"name\": \"MSRIT College\",\n",
      "        \"CourseName\": \"B.E. in Biotechnology Engineering\",\n",
      "        \"Fees\": null,\n",
      "        \"ExpectedKCETCutoff\": 4000,\n",
      "        \"Placement\": []\n",
      "    }\n",
      "]\n",
      "[\n",
      "    {\n",
      "        \"name\": \"PES College\",\n",
      "        \"CourseName\": \"B.Tech. in Biotechnology\",\n",
      "        \"Fees\": null,\n",
      "        \"ExpectedKCETCutoff\": 4000,\n",
      "        \"Placement\": []\n",
      "    },\n",
      "    {\n",
      "        \"name\": \"MSRIT College\",\n",
      "        \"CourseName\": \"B.E. in Biotechnology Engineering\",\n",
      "        \"Fees\": null,\n",
      "        \"ExpectedKCETCutoff\": 4000,\n",
      "        \"Placement\": []\n",
      "    }\n",
      "]\n"
     ]
    }
   ],
   "source": [
    "print('starting rag')\n",
    "resp = rag.call_rag(question=prompt)\n",
    "print(resp)"
   ]
  },
  {
   "cell_type": "code",
   "execution_count": 4,
   "id": "16d20028",
   "metadata": {},
   "outputs": [
    {
     "name": "stdout",
     "output_type": "stream",
     "text": [
      "[\n",
      "    {\n",
      "        \"name\": \"PES College\",\n",
      "        \"CourseName\": \"B.Tech. in Biotechnology\",\n",
      "        \"Fees\": null,\n",
      "        \"ExpectedKCETCutoff\": 4000,\n",
      "        \"Placement\": []\n",
      "    },\n",
      "    {\n",
      "        \"name\": \"MSRIT College\",\n",
      "        \"CourseName\": \"B.E. in Biotechnology Engineering\",\n",
      "        \"Fees\": null,\n",
      "        \"ExpectedKCETCutoff\": 4000,\n",
      "        \"Placement\": []\n",
      "    }\n",
      "]\n"
     ]
    }
   ],
   "source": [
    "print(resp)"
   ]
  },
  {
   "cell_type": "code",
   "execution_count": 5,
   "id": "ace03f40",
   "metadata": {},
   "outputs": [],
   "source": [
    "from langchain.embeddings import HuggingFaceEmbeddings\n",
    "from langchain.vectorstores import Chroma\n",
    "persist_directory=r'./chroma_db'\n",
    "# Load a local embedding model from Hugging Face\n",
    "embeddings = HuggingFaceEmbeddings(model_name=\"sentence-transformers/all-MiniLM-L6-v2\")\n",
    "\n",
    "# Load the existing Chroma vector store\n",
    "vectorstore = Chroma(\n",
    "    persist_directory=persist_directory,\n",
    "    embedding_function=embeddings\n",
    ")\n",
    "\n",
    "retriever =  vectorstore.as_retriever()\n",
    "\n"
   ]
  },
  {
   "cell_type": "code",
   "execution_count": 6,
   "id": "c1320086",
   "metadata": {},
   "outputs": [
    {
     "name": "stdout",
     "output_type": "stream",
     "text": [
      "Chunk 1:\n",
      "KCET CUTOFF - OBC:\n",
      "\n",
      "Course 2022 2023 2024 B.Tech. in Mechanical Engineering 9055 26736 19130 B.Tech. in Electronics and Communication Engineering 16146 3803 8391 B.Tech. in Electrical and Electronics Engineering 1698 6836 6613 B.Tech. in Computer Science and Engineering 94746 1124 5241 B.Tech. in Biotechnology 9600 14206 13805 Bachelor of Architecture (B.Arch.) – / – – / – 195 Bachelor of Pharmacy (B.Pharm.) 32051 – / – 41351 Doctor of Pharmacy (Pharm.D.) 16775 – / – – / – B.Sc. in Nursing – / – – / – 128600 B.Tech. in Artificial Intelligence and Machine Learning 6644 1765 2641\n",
      "\n",
      "College 3: MSRIT College\n",
      "\n",
      "Overview\n",
      "\n",
      "Duration **4 years**\n",
      "Course Level **UG Degree**\n",
      "Mode of Course **Full Time**\n",
      "\n",
      "###### Total Tuition Fees INR 10 .46 Lakh\n",
      "\n",
      "###### Average package INR 7 .66 Lakh\n",
      "\n",
      "Seat breakup **198**\n",
      "Type of University **Private ,Autonomous**\n",
      "\n",
      "Fees\n",
      "\n",
      "##### Fee components Amount (4 years)\n",
      "\n",
      "###### Tuition Fees INR 10.46 Lakh\n",
      "\n",
      "## Total fee INR 10.46 Lakh\n",
      "--------------------------------------------------\n",
      "Chunk 2:\n",
      "PES COLLEGE KCET CUTOFF - SC:\n",
      "\n",
      "Course 2022 2023 2024 B.Tech. in Mechanical Engineering 37349 49447 95309 B.Tech. in Electronics and Communication Engineering 86964 42845 62422 B.Tech. in Electrical and Electronics Engineering 21917 56497 59225 B.Tech. in Computer Science and Engineering 138274 18065 56705 B.Tech. in Biotechnology 38789 86894 69650 Bachelor of Pharmacy (B.Pharm.) 32051 – / – 70489 Doctor of Pharmacy (Pharm.D.) 16775 – / – – / – B.Sc. in Nursing – / – – / – 155074 B.Tech. in Artificial Intelligence and Machine Learning 28137 33639 30341 B.Tech. in Computer Science and Engineering (Artificial Intelligence and Machine Learning) – / – – / – 54289\n",
      "\n",
      "PES COLLEGE KCET CUTOFF - ST\n",
      "--------------------------------------------------\n",
      "Chunk 3:\n",
      "PES College KCET Cutoffs\n",
      "\n",
      "PES COLLEGE KCET CUTOFF - GENERAL:\n",
      "\n",
      "Course 2022 2023 2024 B.Tech. in Mechanical Engineering 9055 26736 19130 B.Tech. in Electronics and Communication Engineering 16146 3803 8391 B.Tech. in Electrical and Electronics Engineering 1698 6836 6613 B.Tech. in Computer Science and Engineering 94746 1124 5241 B.Tech. in Biotechnology 9600 14206 13805 Bachelor of Architecture (B.Arch.) – / – – / – 195 Bachelor of Pharmacy (B.Pharm.) 32051 – / – 41351 Doctor of Pharmacy (Pharm.D.) 16775 – / – – / – B.Sc. in Nursing – / – – / – 128600 B.Tech. in Artificial Intelligence and Machine Learning 6644 1765 2641\n",
      "\n",
      "PES COLLEGE KCET CUTOFF - SC:\n",
      "--------------------------------------------------\n",
      "Chunk 4:\n",
      "PES COLLEGE KCET CUTOFF - ST\n",
      "\n",
      "Course 2022 2023 2024 B.Tech. in Mechanical Engineering 78185 113485 74760 B.Tech. in Electronics and Communication Engineering 36160 48914 80979 B.Tech. in Electrical and Electronics Engineering 11255 71453 74955 B.Tech. in Computer Science and Engineering 99736 18416 56169 B.Tech. in Biotechnology – / – 138596 18040 Bachelor of Pharmacy (B.Pharm.) 32051 – / – 58662 Doctor of Pharmacy (Pharm.D.) 16775 – / – – / – B.Sc. in Nursing – / – – / – 147460 B.Tech. in Artificial Intelligence and Machine Learning 15551 43763 33100\n",
      "\n",
      "KCET CUTOFF - OBC:\n",
      "--------------------------------------------------\n"
     ]
    }
   ],
   "source": [
    "retrieved_docs = retriever.invoke(prompt)\n",
    "for i, doc in enumerate(retrieved_docs):\n",
    "    print(f\"Chunk {i+1}:\\n{doc.page_content}\\n{'-'*50}\")"
   ]
  }
 ],
 "metadata": {
  "kernelspec": {
   "display_name": "LangchainRAG",
   "language": "python",
   "name": "python3"
  },
  "language_info": {
   "codemirror_mode": {
    "name": "ipython",
    "version": 3
   },
   "file_extension": ".py",
   "mimetype": "text/x-python",
   "name": "python",
   "nbconvert_exporter": "python",
   "pygments_lexer": "ipython3",
   "version": "3.10.16"
  }
 },
 "nbformat": 4,
 "nbformat_minor": 5
}
