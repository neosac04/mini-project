{
 "cells": [
  {
   "cell_type": "code",
   "execution_count": 11,
   "id": "e628613c",
   "metadata": {},
   "outputs": [],
   "source": [
    "import os\n",
    "import requests\n",
    "\n",
    "# Load API key from environment variable\n",
    "api_key = os.environ['Groq_APIKey']\n"
   ]
  },
  {
   "cell_type": "code",
   "execution_count": 15,
   "id": "c4c73bc9",
   "metadata": {},
   "outputs": [],
   "source": [
    "url = \"https://api.groq.com/openai/v1/chat/completions\"\n",
    "\n",
    "# Model\n",
    "model = \"llama3-8b-8192\""
   ]
  },
  {
   "cell_type": "code",
   "execution_count": 16,
   "id": "0568b737",
   "metadata": {},
   "outputs": [],
   "source": [
    "template = \"\"\"Enter data  **Exclusively** in the following JSON format:\n",
    "{ \"CourseName\" : String,\n",
    "  \"CourseDescrption\" : String,\n",
    "  \"CourseLink\" : String\n",
    "}\n",
    "1. Return response only in the JSON format shown above\n",
    "2. CourseDescription field should be only one sentence\n",
    "3. CourseLink should be a link to the course\n",
    "4. Give Priority to Free Courses\n",
    "\"\"\"\n",
    "\n",
    "# User query\n",
    "user_prompt = \"Find a free online course on Machine Learning for beginners.\""
   ]
  },
  {
   "cell_type": "code",
   "execution_count": null,
   "id": "3ff7309f",
   "metadata": {},
   "outputs": [],
   "source": []
  },
  {
   "cell_type": "code",
   "execution_count": 17,
   "id": "4c57b096",
   "metadata": {},
   "outputs": [],
   "source": [
    "headers = {\n",
    "    \"Authorization\": f\"Bearer {api_key}\",\n",
    "    \"Content-Type\": \"application/json\"\n",
    "}\n",
    "\n",
    "data = {\n",
    "    \"model\": model,\n",
    "    \"messages\": [\n",
    "        {\"role\": \"system\", \"content\": template},\n",
    "        {\"role\": \"user\", \"content\": user_prompt}\n",
    "    ],\n",
    "    \"temperature\": 0.5\n",
    "}"
   ]
  },
  {
   "cell_type": "code",
   "execution_count": 18,
   "id": "d6d344fa",
   "metadata": {},
   "outputs": [
    {
     "name": "stdout",
     "output_type": "stream",
     "text": [
      "Response: {\n",
      "  \"CourseName\" : \"Machine Learning for Everyone\",\n",
      "  \"CourseDescription\" : \"A beginner-friendly course on machine learning, covering the basics of supervised and unsupervised learning, regression, classification, clustering, and more.\",\n",
      "  \"CourseLink\" : \"https://www.coursera.org/specializations/machine-learning\"\n",
      "}\n"
     ]
    }
   ],
   "source": [
    "response = requests.post(url, headers=headers, json=data)\n",
    "\n",
    "# Handle the response\n",
    "if response.status_code == 200:\n",
    "    reply = response.json()\n",
    "    print(\"Response:\", reply['choices'][0]['message']['content'])\n",
    "else:\n",
    "    print(\"Error:\", response.status_code, response.text)"
   ]
  }
 ],
 "metadata": {
  "kernelspec": {
   "display_name": "LangchainRAG",
   "language": "python",
   "name": "python3"
  },
  "language_info": {
   "codemirror_mode": {
    "name": "ipython",
    "version": 3
   },
   "file_extension": ".py",
   "mimetype": "text/x-python",
   "name": "python",
   "nbconvert_exporter": "python",
   "pygments_lexer": "ipython3",
   "version": "3.10.16"
  }
 },
 "nbformat": 4,
 "nbformat_minor": 5
}
